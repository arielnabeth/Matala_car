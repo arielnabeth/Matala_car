{
 "cells": [
  {
   "cell_type": "markdown",
   "metadata": {},
   "source": [
    "# Matala Ariel Nabeth 318634961 Car (Mini)"
   ]
  },
  {
   "cell_type": "code",
   "execution_count": null,
   "metadata": {},
   "outputs": [],
   "source": [
    "import requests\n",
    "from bs4 import BeautifulSoup"
   ]
  },
  {
   "cell_type": "code",
   "execution_count": 398,
   "metadata": {
    "scrolled": false
   },
   "outputs": [
    {
     "name": "stdout",
     "output_type": "stream",
     "text": [
      "Success\n"
     ]
    }
   ],
   "source": [
    "url = \"https://www.ad.co.il/car?sp261=13924\"\n",
    "\n",
    "headers = {'User-Agent': 'Mozilla/5.0 (Windows NT 10.0) AppleWebKit/537.36 (KHTML, like Gecko) Chrome/113.0.0.0 Safari/537.36'} # This is chrome, you can set whatever browser you like\n",
    "\n",
    "response = requests.get(url,headers= headers)\n",
    "if response.status_code == 200:\n",
    "    print(\"Success\")\n",
    "else:\n",
    "    print(\"Failure\")"
   ]
  },
  {
   "cell_type": "code",
   "execution_count": 399,
   "metadata": {},
   "outputs": [],
   "source": [
    "soup = BeautifulSoup(response.content, 'html.parser')\n"
   ]
  },
  {
   "cell_type": "code",
   "execution_count": 400,
   "metadata": {},
   "outputs": [
    {
     "data": {
      "text/plain": [
       "['מיני', 'קופר', '2013', '99%', '121K', 'ק\"מ', '3', 'יד', '60', '₪']"
      ]
     },
     "execution_count": 400,
     "metadata": {},
     "output_type": "execute_result"
    }
   ],
   "source": [
    "descritpion=soup.find('div',{'class':'card-body p-md-3'}).get_text().split()\n",
    "descritpion"
   ]
  },
  {
   "cell_type": "code",
   "execution_count": 401,
   "metadata": {},
   "outputs": [
    {
     "name": "stdout",
     "output_type": "stream",
     "text": [
      "{'manufactor': 'מיני', 'model': 'קופר', 'Year': '2013', 'Price': '60', 'Hand': '3', 'Km': '121K'}\n"
     ]
    }
   ],
   "source": [
    "descritpion=soup.find('div',{'class':'card-body p-md-3'}).get_text().split()\n",
    "descritpion\n",
    "# Select\n",
    "manufactor = descritpion[0]\n",
    "model = descritpion[1]\n",
    "Year = descritpion[2]\n",
    "Hand= descritpion[6]\n",
    "Km= descritpion[4]\n",
    "Price = descritpion[8]  \n",
    "\n",
    "# dict with new name\n",
    "description_dict = {\n",
    "    'manufactor': manufactor,\n",
    "    'model': model,\n",
    "    'Year': Year,\n",
    "    'Price': Price,\n",
    "    'Hand' : Hand,\n",
    "    'Km': Km\n",
    "}\n",
    "\n",
    "# testing\n",
    "print(description_dict)\n"
   ]
  },
  {
   "cell_type": "raw",
   "metadata": {},
   "source": [
    "Link_car=\"https://www.ad.co.il/ad/16188386\""
   ]
  },
  {
   "cell_type": "code",
   "execution_count": 402,
   "metadata": {},
   "outputs": [
    {
     "data": {
      "text/plain": [
       "'https://www.ad.co.il/ad/16188386'"
      ]
     },
     "execution_count": 402,
     "metadata": {},
     "output_type": "execute_result"
    }
   ],
   "source": [
    "Link_car"
   ]
  },
  {
   "cell_type": "code",
   "execution_count": 403,
   "metadata": {},
   "outputs": [
    {
     "name": "stdout",
     "output_type": "stream",
     "text": [
      "car brand = <div class=\"d-flex justify-content-between\">\n",
      "<div class=\"d-inline-flex\">\n",
      "<div class=\"me-2 flex-fill card-icon-wrapper\">\n",
      "<i class=\"fa fa-tachometer-alt\"></i>\n",
      "<span class=\"ms-1\">121K<span class=\"d-none d-md-inline-block\"> ק\"מ</span></span>\n",
      "</div>\n",
      "<div class=\"flex-fill card-icon-wrapper\">\n",
      "<i class=\"fa fa-hand-paper\"></i>\n",
      "<span class=\"ms-1\">3<span class=\"d-none d-md-inline-block\"> יד</span></span>\n",
      "</div>\n",
      "</div>\n",
      "<div class=\"price ms-1\">60 ₪</div>\n",
      "</div>\n"
     ]
    }
   ],
   "source": [
    "\n",
    "title = soup.find('div', {'class': 'd-flex justify-content-between'})\n",
    "\n",
    "print(\"car brand =\", title)"
   ]
  },
  {
   "cell_type": "code",
   "execution_count": 404,
   "metadata": {},
   "outputs": [
    {
     "name": "stdout",
     "output_type": "stream",
     "text": [
      "Success\n"
     ]
    }
   ],
   "source": [
    "url = \"https://www.ad.co.il/ad/16188386\"\n",
    "\n",
    "headers = {'User-Agent': 'Mozilla/5.0 (Windows NT 10.0) AppleWebKit/537.36 (KHTML, like Gecko) Chrome/113.0.0.0 Safari/537.36'} # This is chrome, you can set whatever browser you like\n",
    "\n",
    "response = requests.get(url,headers= headers)\n",
    "if response.status_code == 200:\n",
    "    print(\"Success\")\n",
    "else:\n",
    "    print(\"Failure\")\n",
    "soup = BeautifulSoup(response.content, 'html.parser')\n"
   ]
  },
  {
   "cell_type": "code",
   "execution_count": 405,
   "metadata": {},
   "outputs": [],
   "source": [
    "#table = soup.find('table')"
   ]
  },
  {
   "cell_type": "markdown",
   "metadata": {},
   "source": [
    "## Find Data of details of the car in the table', {'class': 'table table-sm mb-4\"}"
   ]
  },
  {
   "cell_type": "code",
   "execution_count": 406,
   "metadata": {
    "scrolled": true
   },
   "outputs": [
    {
     "name": "stdout",
     "output_type": "stream",
     "text": [
      "['2013', '3', 'אוטומטית', '1,600', 'בנזין', '121,000', '01/2025', \"בז'\", 'פרטית', 'פרטית', 'חולון - בת ים', 'חולון']\n"
     ]
    }
   ],
   "source": [
    "table_data = []\n",
    "\n",
    "table = parent_div.find('table', {'class': 'table table-sm mb-4'})\n",
    "\n",
    "if table:\n",
    "    rows = table.find_all('tr')\n",
    "    \n",
    "    for row in rows:\n",
    "        cols = row.find_all('td')\n",
    "        \n",
    "        row_data = [col.get_text(strip=True) for col in cols]\n",
    "        \n",
    "        \n",
    "        table_data.append(row_data)\n",
    "\n",
    "# print the final result\n",
    "final_result = []\n",
    "\n",
    "for sublist in table_data:\n",
    "    # take just the second result from each lines\n",
    "    final_result.append(sublist[1])\n",
    "\n",
    "print(final_result)"
   ]
  },
  {
   "cell_type": "markdown",
   "metadata": {},
   "source": [
    "# Find more details about car Cre_date and Repub_date\n",
    "\n"
   ]
  },
  {
   "cell_type": "code",
   "execution_count": 407,
   "metadata": {},
   "outputs": [
    {
     "name": "stdout",
     "output_type": "stream",
     "text": [
      "תאריך יצירה: 29/05/2024\n",
      "תאריך הקפצה אחרון: 30/05/2024\n"
     ]
    }
   ],
   "source": [
    "description_elements = soup.find_all('div', {'class': 'px-3'})\n",
    "\n",
    "if description_elements:\n",
    "    for element in description_elements:\n",
    "        element_text = element.get_text().strip()\n",
    "        print(element_text)\n",
    "\n"
   ]
  },
  {
   "cell_type": "markdown",
   "metadata": {},
   "source": [
    "# Cre_date and Repub_date replace from hebrew"
   ]
  },
  {
   "cell_type": "code",
   "execution_count": 408,
   "metadata": {},
   "outputs": [
    {
     "name": "stdout",
     "output_type": "stream",
     "text": [
      "['Cre_dat: 29/05/2024', 'Repub_dat: 30/05/2024']\n"
     ]
    }
   ],
   "source": [
    "import requests\n",
    "from bs4 import BeautifulSoup\n",
    "\n",
    "url = \"https://www.ad.co.il/ad/16188386\"\n",
    "headers = {\n",
    "    'User-Agent': 'Mozilla/5.0 (Windows NT 10.0) AppleWebKit/537.36 (KHTML, like Gecko) Chrome/113.0.0.0 Safari/537.36'\n",
    "}\n",
    "\n",
    "response = requests.get(url, headers=headers)\n",
    "\n",
    "if response.status_code == 200:\n",
    "    soup = BeautifulSoup(response.content, 'html.parser')\n",
    "    \n",
    "    # new list\n",
    "    description_texts = []\n",
    "    \n",
    "    description_elements = soup.find_all('div', class_='px-3')\n",
    "    \n",
    "    if description_elements:\n",
    "        for element in description_elements:\n",
    "            element_text = element.get_text().strip()\n",
    "            # Replace Cre_dat et Repub_dat\n",
    "            if \"תאריך יצירה:\" in element_text:\n",
    "                element_text = element_text.replace(\"תאריך יצירה:\", \"Cre_dat:\")\n",
    "            if \"תאריך הקפצה אחרון:\" in element_text:\n",
    "                element_text = element_text.replace(\"תאריך הקפצה אחרון:\", \"Repub_dat:\")\n",
    "            description_texts.append(element_text)\n",
    "  \n",
    "    \n",
    "    print(description_texts)  \n",
    "\n"
   ]
  },
  {
   "cell_type": "markdown",
   "metadata": {},
   "source": [
    "# Detail_description"
   ]
  },
  {
   "cell_type": "code",
   "execution_count": 409,
   "metadata": {},
   "outputs": [
    {
     "name": "stdout",
     "output_type": "stream",
     "text": [
      "מיני קופר S דגם ספורט גג פנורמי כפול 184 כ\"ס \n",
      "שמורה כחדשה מטופלת במוסך מורשה יד שלישית 02 ברשיון\n"
     ]
    }
   ],
   "source": [
    "import requests\n",
    "from bs4 import BeautifulSoup\n",
    "\n",
    "url = 'https://www.ad.co.il/ad/16188386'\n",
    "\n",
    "response = requests.get(url)\n",
    "\n",
    "if response.status_code == 200:\n",
    "    soup = BeautifulSoup(response.content, 'html.parser')\n",
    "    \n",
    "    description_p = soup.find('p', class_='text-word-break')\n",
    "    \n",
    "    if description_p:\n",
    "        description_text = description_p.get_text(strip=True)\n",
    "        print(description_text)\n",
    "    else:\n",
    "        print(\"no information\")\n",
    "\n"
   ]
  },
  {
   "cell_type": "markdown",
   "metadata": {},
   "source": [
    "# Make same exemple from lessoon 3.3 to see the result (Company,type of car)"
   ]
  },
  {
   "cell_type": "code",
   "execution_count": 410,
   "metadata": {},
   "outputs": [],
   "source": [
    "Link_car='https://www.ad.co.il/ad/16188386'"
   ]
  },
  {
   "cell_type": "code",
   "execution_count": 411,
   "metadata": {},
   "outputs": [
    {
     "data": {
      "text/plain": [
       "'https://www.ad.co.il/ad/16188386'"
      ]
     },
     "execution_count": 411,
     "metadata": {},
     "output_type": "execute_result"
    }
   ],
   "source": [
    "Link_car"
   ]
  },
  {
   "cell_type": "code",
   "execution_count": 412,
   "metadata": {
    "scrolled": true
   },
   "outputs": [
    {
     "name": "stdout",
     "output_type": "stream",
     "text": [
      "('https://www.ad.co.il/ad/16188386', {'manufacturer': 'מיני', 'model': 'קופר'})\n",
      "('https://www.ad.co.il/ad/15896346', {'manufacturer': 'מיני', 'model': 'קופר'})\n",
      "('https://www.ad.co.il/ad/15848770', {'manufacturer': 'מיני', 'model': 'ONE'})\n",
      "('https://www.ad.co.il/ad/15237986', {'manufacturer': 'מיני', 'model': 'קופר'})\n",
      "('https://www.ad.co.il/ad/15080461', {'manufacturer': 'מיני', 'model': 'קופר'})\n",
      "('https://www.ad.co.il/ad/14704257', {'manufacturer': 'מיני', 'model': 'קופר'})\n",
      "('https://www.ad.co.il/ad/14651771', {'manufacturer': 'מיני', 'model': 'קאנטרימן'})\n",
      "('https://www.ad.co.il/ad/14617917', {'manufacturer': 'מיני', 'model': 'קופר'})\n",
      "('https://www.ad.co.il/ad/14514819', {'manufacturer': 'מיני', 'model': 'קופר'})\n",
      "('https://www.ad.co.il/ad/14478638', {'manufacturer': 'מיני', 'model': 'ONE'})\n",
      "('https://www.ad.co.il/ad/14436337', {'manufacturer': 'מיני', 'model': 'קופר'})\n",
      "('https://www.ad.co.il/ad/14423189', {'manufacturer': 'מיני', 'model': 'one'})\n",
      "('https://www.ad.co.il/ad/14414764', {'manufacturer': 'מיני', 'model': 'קופר'})\n",
      "('https://www.ad.co.il/ad/14177752', {'manufacturer': 'מיני', 'model': 'קאנטרימן'})\n",
      "('https://www.ad.co.il/ad/13856393', {'manufacturer': 'מיני', 'model': 'קאונטרימן'})\n",
      "('https://www.ad.co.il/ad/13761125', {'manufacturer': 'מיני', 'model': 'one'})\n",
      "('https://www.ad.co.il/ad/14782992', {'manufacturer': 'מיני', 'model': 'קופר'})\n",
      "('https://www.ad.co.il/ad/13192504', {'manufacturer': 'מיני', 'model': 'ONE'})\n",
      "('https://www.ad.co.il/ad/13859500', {'manufacturer': 'מיני', 'model': 'קופר'})\n"
     ]
    }
   ],
   "source": [
    "import requests\n",
    "from bs4 import BeautifulSoup\n",
    "\n",
    "def get_car():\n",
    "    car_list = list()\n",
    "    url = \"https://www.ad.co.il/car?sp261=13924\"\n",
    "    response = requests.get(url)\n",
    "    if response.status_code != 200:\n",
    "        print(\"HTTP error:\", response.status_code)\n",
    "        return None\n",
    "    try:\n",
    "        results_page = BeautifulSoup(response.content, 'html.parser')\n",
    "        cars = results_page.find_all('div', {'class': 'card-body p-md-3'})\n",
    "        for idx, car in enumerate(cars):\n",
    "            if idx >= len(cars) - 3:\n",
    "                continue\n",
    "\n",
    "            car_link = \"https://www.ad.co.il\" + car.find('a').get('href')\n",
    "            try:\n",
    "                car_description = car.get_text().split()\n",
    "                manufacturer = car_description[0]\n",
    "                model = car_description[1]\n",
    "                \n",
    "                \n",
    "                description_dict = {\n",
    "                    'manufacturer': manufacturer,\n",
    "                    'model': model,\n",
    "                    \n",
    "                }\n",
    "                \n",
    "            except IndexError:\n",
    "                description_dict = {\n",
    "                    'manufacturer': '',\n",
    "                    'model': ''\n",
    "                }\n",
    "            car_list.append((car_link, description_dict))\n",
    "        return car_list\n",
    "    except Exception as e:\n",
    "        print(f\"Error occurred: {e}\")\n",
    "        return None\n",
    "\n",
    "cars = get_car()\n",
    "for car in cars:\n",
    "    print(car)\n"
   ]
  },
  {
   "cell_type": "markdown",
   "metadata": {},
   "source": [
    "# Remove the last 3 lines is not a car "
   ]
  },
  {
   "cell_type": "code",
   "execution_count": 413,
   "metadata": {},
   "outputs": [
    {
     "name": "stdout",
     "output_type": "stream",
     "text": [
      "('https://www.ad.co.il/ad/16188386', {'manufacturer': 'מיני', 'model': 'קופר', 'price': '60 ₪'})\n",
      "('https://www.ad.co.il/ad/15896346', {'manufacturer': 'מיני', 'model': 'קופר', 'price': '85,000 ₪'})\n",
      "('https://www.ad.co.il/ad/15848770', {'manufacturer': 'מיני', 'model': 'ONE', 'price': '68,000 ₪'})\n",
      "('https://www.ad.co.il/ad/15237986', {'manufacturer': 'מיני', 'model': 'קופר', 'price': '65,000 ₪'})\n",
      "('https://www.ad.co.il/ad/15080461', {'manufacturer': 'מיני', 'model': 'קופר', 'price': '70,000 ₪'})\n",
      "('https://www.ad.co.il/ad/14704257', {'manufacturer': 'מיני', 'model': 'קופר', 'price': '162,000 ₪'})\n",
      "('https://www.ad.co.il/ad/14651771', {'manufacturer': 'מיני', 'model': 'קאנטרימן', 'price': '95,000 ₪'})\n",
      "('https://www.ad.co.il/ad/14617917', {'manufacturer': 'מיני', 'model': 'קופר', 'price': '48,000 ₪'})\n",
      "('https://www.ad.co.il/ad/14514819', {'manufacturer': 'מיני', 'model': 'קופר', 'price': '205,000 ₪'})\n",
      "('https://www.ad.co.il/ad/14478638', {'manufacturer': 'מיני', 'model': 'ONE', 'price': '77,000 ₪'})\n",
      "('https://www.ad.co.il/ad/14436337', {'manufacturer': 'מיני', 'model': 'קופר', 'price': '110,000 ₪'})\n",
      "('https://www.ad.co.il/ad/14423189', {'manufacturer': 'מיני', 'model': 'one', 'price': ''})\n",
      "('https://www.ad.co.il/ad/14414764', {'manufacturer': 'מיני', 'model': 'קופר', 'price': '188,000 ₪'})\n",
      "('https://www.ad.co.il/ad/14177752', {'manufacturer': 'מיני', 'model': 'קאנטרימן', 'price': '248,000 ₪'})\n",
      "('https://www.ad.co.il/ad/13856393', {'manufacturer': 'מיני', 'model': 'קאונטרימן', 'price': '70,000 ₪'})\n",
      "('https://www.ad.co.il/ad/13761125', {'manufacturer': 'מיני', 'model': 'one', 'price': '66,000 ₪'})\n",
      "('https://www.ad.co.il/ad/14782992', {'manufacturer': 'מיני', 'model': 'קופר', 'price': '39,000 ₪'})\n",
      "('https://www.ad.co.il/ad/13192504', {'manufacturer': 'מיני', 'model': 'ONE', 'price': '75,000 ₪'})\n",
      "('https://www.ad.co.il/ad/13859500', {'manufacturer': 'מיני', 'model': 'קופר', 'price': '85,000 ₪'})\n"
     ]
    }
   ],
   "source": [
    "import requests\n",
    "from bs4 import BeautifulSoup\n",
    "\n",
    "def get_car():\n",
    "    car_list = list()\n",
    "    url = \"https://www.ad.co.il/car?sp261=13924\"\n",
    "    response = requests.get(url)\n",
    "    if response.status_code != 200:\n",
    "        print(\"HTTP error:\", response.status_code)\n",
    "        return None\n",
    "    try:\n",
    "        results_page = BeautifulSoup(response.content, 'html.parser')\n",
    "        cars = results_page.find_all('div', {'class': 'card-body p-md-3'})\n",
    "        for idx, car in enumerate(cars):\n",
    "            if idx >= len(cars) - 3:\n",
    "                continue\n",
    "\n",
    "            car_link = \"https://www.ad.co.il\" + car.find('a').get('href')\n",
    "            try:\n",
    "                car_description = car.get_text().split()\n",
    "                manufacturer = car_description[0]\n",
    "                model = car_description[1]\n",
    "                year = car_description[2]\n",
    "                price_element = car.find('div', {'class': 'price ms-1'})\n",
    "                price = price_element.get_text(strip=True) if price_element else ''\n",
    "\n",
    "                description_dict = {\n",
    "                    'manufacturer': manufacturer,\n",
    "                    'model': model,\n",
    "                    'price': price\n",
    "                }\n",
    "                \n",
    "            except IndexError:\n",
    "                description_dict = {\n",
    "                    'manufacturer': '',\n",
    "                    'model': '',\n",
    "                    'price': ''\n",
    "                }\n",
    "            car_list.append((car_link, description_dict))\n",
    "        return car_list\n",
    "    except Exception as e:\n",
    "        print(f\"Error occurred: {e}\")\n",
    "        return None\n",
    "\n",
    "#testing\n",
    "cars = get_car()\n",
    "if cars:\n",
    "    for car in cars:\n",
    "        print(car)\n",
    "else:\n",
    "    print(\"not car find.\")\n"
   ]
  },
  {
   "cell_type": "markdown",
   "metadata": {},
   "source": [
    "# put all the detail car in a def"
   ]
  },
  {
   "cell_type": "code",
   "execution_count": 414,
   "metadata": {},
   "outputs": [],
   "source": [
    "Detail_link='https://www.ad.co.il/ad/16188386'"
   ]
  },
  {
   "cell_type": "code",
   "execution_count": 415,
   "metadata": {},
   "outputs": [
    {
     "data": {
      "text/plain": [
       "'https://www.ad.co.il/ad/16188386'"
      ]
     },
     "execution_count": 415,
     "metadata": {},
     "output_type": "execute_result"
    }
   ],
   "source": [
    "Detail_link"
   ]
  },
  {
   "cell_type": "code",
   "execution_count": 416,
   "metadata": {},
   "outputs": [],
   "source": [
    "import requests\n",
    "from bs4 import BeautifulSoup\n",
    "\n",
    "def scrape_table_data(Detail_link):\n",
    "    response = requests.get(Detail_link)\n",
    "    \n",
    "    if response.status_code == 200:\n",
    "        soup = BeautifulSoup(response.content, 'html.parser')\n",
    "        \n",
    "        parent_div = soup.find('div', {'class': 'col-xxl-4 col-lg-4 col-md-5'})\n",
    "        \n",
    "        if parent_div:\n",
    "            table = parent_div.find('table', {'class': 'table table-sm mb-4'})\n",
    "            \n",
    "            if table:\n",
    "                table_data = []\n",
    "                \n",
    "                rows = table.find_all('tr')\n",
    "                \n",
    "                for row in rows:\n",
    "                    cols = row.find_all('td')\n",
    "                    \n",
    "                    row_data = [col.get_text(strip=True) for col in cols]\n",
    "                    \n",
    "                    table_data.append(row_data)\n",
    "                \n",
    "                translation_dict = {\n",
    "                    'שנה': 'Year',\n",
    "                    'יד': 'Hand',\n",
    "                    'ת. הילוכים': 'Gear',\n",
    "                    'נפח': 'Engine_capacity',\n",
    "                    'סוג מנוע': 'Engine_type',\n",
    "                    'ק\"מ': 'Km',\n",
    "                    'טסט עד': 'Test',\n",
    "                    'צבע': 'Color',\n",
    "                    'בעלות קודמת': 'Prev_ownership',\n",
    "                    'בעלות נוכחית': 'Curr_ownership',\n",
    "                    'אזור': 'Area',\n",
    "                    'עיר': 'City'\n",
    "                }\n",
    "                \n",
    "                # translsate\n",
    "                translated_data = []\n",
    "                for item in table_data:\n",
    "                    if item[0] in translation_dict:\n",
    "                        translated_data.append([translation_dict[item[0]], item[1]])\n",
    "                    else:\n",
    "                        translated_data.append(item)\n",
    "                \n",
    "                return translated_data\n",
    "            else:\n",
    "                print(\"Table not found\")\n",
    "                return None\n",
    "        else:\n",
    "            print(\"Parent div not found\")\n",
    "            return None\n",
    "    else:\n",
    "        print(\"Failed to retrieve the webpage\")\n",
    "        return None\n",
    "\n"
   ]
  },
  {
   "cell_type": "code",
   "execution_count": 417,
   "metadata": {},
   "outputs": [
    {
     "data": {
      "text/plain": [
       "[['Year', '2013'],\n",
       " ['Hand', '3'],\n",
       " ['Gear', 'אוטומטית'],\n",
       " ['Engine_capacity', '1,600'],\n",
       " ['Engine_type', 'בנזין'],\n",
       " ['Km', '121,000'],\n",
       " ['Test', '01/2025'],\n",
       " ['Color', \"בז'\"],\n",
       " ['Prev_ownership', 'פרטית'],\n",
       " ['Curr_ownership', 'פרטית'],\n",
       " ['Area', 'חולון - בת ים'],\n",
       " ['City', 'חולון']]"
      ]
     },
     "execution_count": 417,
     "metadata": {},
     "output_type": "execute_result"
    }
   ],
   "source": [
    "scrape_table_data(Detail_link)"
   ]
  },
  {
   "cell_type": "markdown",
   "metadata": {},
   "source": [
    "# Creat def for counting image"
   ]
  },
  {
   "cell_type": "markdown",
   "metadata": {},
   "source": [
    "#### remove -1 image its one big one that are also in the gallery"
   ]
  },
  {
   "cell_type": "code",
   "execution_count": 418,
   "metadata": {
    "scrolled": true
   },
   "outputs": [
    {
     "name": "stdout",
     "output_type": "stream",
     "text": [
      "{'Pic_num': 3}\n"
     ]
    }
   ],
   "source": [
    "import requests\n",
    "from bs4 import BeautifulSoup\n",
    "\n",
    "def count_images(url):\n",
    "    result_dict = {}\n",
    "\n",
    "    response = requests.get(url)\n",
    "    \n",
    "    if response.status_code == 200:\n",
    "        soup = BeautifulSoup(response.text, 'html.parser')\n",
    "    \n",
    "        div_row = soup.find('div', {'class': 'row hide-on-mobile'})\n",
    "    \n",
    "        if div_row:\n",
    "            photos = div_row.find_all('img')\n",
    "    \n",
    "            nombre_photos = len(photos)-1\n",
    "    \n",
    "            result_dict[\"Pic_num\"] = nombre_photos\n",
    "        else:\n",
    "            print(\"Le div avec la classe 'row hide-on-mobile' n'a pas été trouvé.\")\n",
    "            result_dict[\"Pic_num\"] = 0\n",
    "    else:\n",
    "        print(f\"Erreur {response.status_code} lors de la requête HTTP.\")\n",
    "        result_dict[\"Pic_num\"] = 0\n",
    "    \n",
    "    return result_dict\n",
    "\n",
    "url = 'https://www.ad.co.il/ad/16188386'\n",
    "pic_num_dict = count_images(url)\n",
    "\n",
    "print(pic_num_dict)\n"
   ]
  },
  {
   "cell_type": "markdown",
   "metadata": {},
   "source": [
    "# Add descrption to the def counting"
   ]
  },
  {
   "cell_type": "code",
   "execution_count": 419,
   "metadata": {},
   "outputs": [
    {
     "name": "stdout",
     "output_type": "stream",
     "text": [
      "{'Pic_num': 3, 'Description': 'מיני קופר S דגם ספורט גג פנורמי כפול 184 כ\"ס \\nשמורה כחדשה מטופלת במוסך מורשה יד שלישית 02 ברשיון'}\n"
     ]
    }
   ],
   "source": [
    "import requests\n",
    "from bs4 import BeautifulSoup\n",
    "\n",
    "def scrape_ad_data(url):\n",
    "    result_dict = {}\n",
    "\n",
    "    response = requests.get(url, headers={\n",
    "        'User-Agent': 'Mozilla/5.0 (Windows NT 10.0) AppleWebKit/537.36 (KHTML, like Gecko) Chrome/113.0.0.0 Safari/537.36'\n",
    "    })\n",
    "    \n",
    "    if response.status_code == 200:\n",
    "        soup = BeautifulSoup(response.text, 'html.parser')\n",
    "    \n",
    "        div_row = soup.find('div', {'class': 'row hide-on-mobile'})\n",
    "    \n",
    "        if div_row:\n",
    "            photos = div_row.find_all('img')\n",
    "    \n",
    "            nombre_photos = len(photos)-1\n",
    "    \n",
    "            result_dict[\"Pic_num\"] = nombre_photos\n",
    "        else:\n",
    "            print(\"Le div avec la classe 'row hide-on-mobile' n'a pas été trouvé.\")\n",
    "            result_dict[\"Pic_num\"] = 0\n",
    "        \n",
    "        description_p = soup.find('p', class_='text-word-break')\n",
    "    \n",
    "        if description_p:\n",
    "            description_text = description_p.get_text(strip=True)\n",
    "            result_dict[\"Description\"] = description_text\n",
    "        else:\n",
    "            print(\"Paragraphe avec classe 'text-word-break' non trouvé.\")\n",
    "            result_dict[\"Description\"] = \"\"\n",
    "    else:\n",
    "        print(f\"Erreur {response.status_code} lors de la requête HTTP.\")\n",
    "        result_dict[\"Pic_num\"] = 0\n",
    "        result_dict[\"Description\"] = \"\"\n",
    "    \n",
    "    return result_dict\n",
    "\n",
    "url = 'https://www.ad.co.il/ad/16188386'\n",
    "ad_data_dict = scrape_ad_data(url)\n",
    "\n",
    "print(ad_data_dict)\n"
   ]
  },
  {
   "cell_type": "markdown",
   "metadata": {},
   "source": [
    "# Add to the def Cre_date and Repub_date"
   ]
  },
  {
   "cell_type": "code",
   "execution_count": 420,
   "metadata": {},
   "outputs": [],
   "source": [
    "import requests\n",
    "from bs4 import BeautifulSoup\n",
    "\n",
    "def scrape_ad_data(url):\n",
    "    result_dict = {}\n",
    "\n",
    "    response = requests.get(url, headers={\n",
    "        'User-Agent': 'Mozilla/5.0 (Windows NT 10.0) AppleWebKit/537.36 (KHTML, like Gecko) Chrome/113.0.0.0 Safari/537.36'\n",
    "    })\n",
    "    \n",
    "    if response.status_code == 200:\n",
    "        soup = BeautifulSoup(response.content, 'html.parser')\n",
    "    \n",
    "        div_row = soup.find('div', {'class': 'row hide-on-mobile'})\n",
    "    \n",
    "        if div_row:\n",
    "            photos = div_row.find_all('img')\n",
    "    \n",
    "            nombre_photos = len(photos)\n",
    "    \n",
    "            result_dict[\"Pic_num\"] = nombre_photos\n",
    "        else:\n",
    "            print(\"not find 'row hide-on-mobile'.\")\n",
    "            result_dict[\"Pic_num\"] = 0\n",
    "        \n",
    "        description_p = soup.find('p', class_='text-word-break')\n",
    "    \n",
    "        if description_p:\n",
    "            description_text = description_p.get_text(strip=True)\n",
    "            result_dict[\"Description\"] = description_text\n",
    "        else:\n",
    "            print(\"not find class 'text-word-break' .\")\n",
    "            result_dict[\"Description\"] = \"\"\n",
    "        \n",
    "        description_elements = soup.find_all('div', class_='px-3')\n",
    "    \n",
    "        if description_elements:\n",
    "            for element in description_elements:\n",
    "                element_text = element.get_text().strip()\n",
    "                if \"תאריך יצירה:\" in element_text:\n",
    "                    result_dict[\"Cre_date\"] = element_text.replace(\"תאריך יצירה:\", \"\").strip()\n",
    "                if \"תאריך הקפצה אחרון:\" in element_text:\n",
    "                    result_dict[\"Repub_date\"] = element_text.replace(\"תאריך הקפצה אחרון:\", \"\").strip()\n",
    "        else:\n",
    "            print(\"not find class 'px-3' .\")\n",
    "        \n",
    "    else:\n",
    "        print(f\"Erreur {response.status_code} .\")\n",
    "        result_dict[\"Pic_num\"] = 0\n",
    "        result_dict[\"Description\"] = \"\"\n",
    "        result_dict[\"Cre_date\"] = \"\"\n",
    "        result_dict[\"Repub_date\"] = \"\"\n",
    "    \n",
    "    return result_dict\n",
    "\n"
   ]
  },
  {
   "cell_type": "markdown",
   "metadata": {},
   "source": [
    "##  Testing the Def scrape_ad_data()"
   ]
  },
  {
   "cell_type": "code",
   "execution_count": 421,
   "metadata": {
    "scrolled": true
   },
   "outputs": [
    {
     "name": "stdout",
     "output_type": "stream",
     "text": [
      "{'Pic_num': 4, 'Description': 'מיני קופר S דגם ספורט גג פנורמי כפול 184 כ\"ס \\nשמורה כחדשה מטופלת במוסך מורשה יד שלישית 02 ברשיון', 'Cre_date': '29/05/2024', 'Repub_date': '30/05/2024'}\n"
     ]
    }
   ],
   "source": [
    "\n",
    "url = 'https://www.ad.co.il/ad/16188386'\n",
    "ad_data_dict = scrape_ad_data(url)\n",
    "\n",
    "print(ad_data_dict)"
   ]
  },
  {
   "cell_type": "markdown",
   "metadata": {},
   "source": [
    "#  Unify the two def to get all car information once clicked on a specific car "
   ]
  },
  {
   "cell_type": "code",
   "execution_count": 422,
   "metadata": {},
   "outputs": [],
   "source": [
    "import requests\n",
    "from bs4 import BeautifulSoup\n",
    "\n",
    "def scrape_table_data(Detail_link):\n",
    "    response = requests.get(Detail_link)\n",
    "    \n",
    "    if response.status_code == 200:\n",
    "        soup = BeautifulSoup(response.content, 'html.parser')\n",
    "        \n",
    "        parent_div = soup.find('div', {'class': 'col-xxl-4 col-lg-4 col-md-5'})\n",
    "        \n",
    "        if parent_div:\n",
    "            table = parent_div.find('table', {'class': 'table table-sm mb-4'})\n",
    "            \n",
    "            if table:\n",
    "                table_data = []\n",
    "                \n",
    "                rows = table.find_all('tr')\n",
    "                \n",
    "                for row in rows:\n",
    "                    cols = row.find_all('td')\n",
    "                    \n",
    "                    row_data = [col.get_text(strip=True) for col in cols]\n",
    "                    \n",
    "                    table_data.append(row_data)\n",
    "                \n",
    "                translation_dict = {\n",
    "                    'שנה': 'Year',\n",
    "                    'יד': 'Hand',\n",
    "                    'ת. הילוכים': 'Gear',\n",
    "                    'נפח': 'Engine_capacity',\n",
    "                    'סוג מנוע': 'Engine_type',\n",
    "                    'ק\"מ': 'Km',\n",
    "                    'טסט עד': 'Test',\n",
    "                    'צבע': 'Color',\n",
    "                    'בעלות קודמת': 'Prev_ownership',\n",
    "                    'בעלות נוכחית': 'Curr_ownership',\n",
    "                    'אזור': 'Area',\n",
    "                    'עיר': 'City'\n",
    "                }\n",
    "                \n",
    "                translated_data = []\n",
    "                for item in table_data:\n",
    "                    if item[0] in translation_dict:\n",
    "                        translated_data.append([translation_dict[item[0]], item[1]])\n",
    "                    else:\n",
    "                        translated_data.append(item)\n",
    "                \n",
    "                return translated_data\n",
    "            else:\n",
    "                print(\"Table not found\")\n",
    "                return None\n",
    "        else:\n",
    "            print(\"Parent div not found\")\n",
    "            return None\n",
    "    else:\n",
    "        print(\"Failed to retrieve the webpage\")\n",
    "        return None\n",
    "\n",
    "def scrape_ad_data(url):\n",
    "    result_dict = {}\n",
    "\n",
    "    response = requests.get(url, headers={\n",
    "        'User-Agent': 'Mozilla/5.0 (Windows NT 10.0) AppleWebKit/537.36 (KHTML, comme Gecko) Chrome/113.0.0.0 Safari/537.36'\n",
    "    })\n",
    "    \n",
    "    if response.status_code == 200:\n",
    "        soup = BeautifulSoup(response.content, 'html.parser')\n",
    "    \n",
    "        div_row = soup.find('div', {'class': 'row hide-on-mobile'})\n",
    "    \n",
    "        if div_row:\n",
    "            photos = div_row.find_all('img')\n",
    "    \n",
    "            nombre_photos = len(photos)-1\n",
    "    \n",
    "            result_dict[\"Pic_num\"] = nombre_photos\n",
    "        else:\n",
    "            print(\"Le div avec la classe 'row hide-on-mobile' n'a pas été trouvé.\")\n",
    "            result_dict[\"Pic_num\"] = 0\n",
    "        \n",
    "        description_p = soup.find('p', class_='text-word-break')\n",
    "    \n",
    "        if description_p:\n",
    "            description_text = description_p.get_text(strip=True)\n",
    "            result_dict[\"Description\"] = description_text\n",
    "        else:\n",
    "            print(\"Paragraphe not fond 'text-word-break' .\")\n",
    "            result_dict[\"Description\"] = \"\"\n",
    "        \n",
    "        description_elements = soup.find_all('div', class_='px-3')\n",
    "    \n",
    "        if description_elements:\n",
    "            for element in description_elements:\n",
    "                element_text = element.get_text().strip()\n",
    "                if \"תאריך יצירה:\" in element_text:\n",
    "                    result_dict[\"Cre_date\"] = element_text.replace(\"תאריך יצירה:\", \"\").strip()\n",
    "                if \"תאריך הקפצה אחרון:\" in element_text:\n",
    "                    result_dict[\"Repub_date\"] = element_text.replace(\"תאריך הקפצה אחרון:\", \"\").strip()\n",
    "        else:\n",
    "            print(\"Aucun élément avec la classe spécifique 'px-3' n'a été trouvé.\")\n",
    "        \n",
    "    else:\n",
    "        print(f\"Erreur {response.status_code} lors de la requête HTTP.\")\n",
    "        result_dict[\"Pic_num\"] = 0\n",
    "        result_dict[\"Description\"] = \"\"\n",
    "        result_dict[\"Cre_date\"] = \"\"\n",
    "        result_dict[\"Repub_date\"] = \"\"\n",
    "    \n",
    "    return result_dict\n",
    "\n",
    "\n"
   ]
  },
  {
   "cell_type": "markdown",
   "metadata": {},
   "source": [
    "### Testing"
   ]
  },
  {
   "cell_type": "code",
   "execution_count": 423,
   "metadata": {
    "scrolled": true
   },
   "outputs": [
    {
     "data": {
      "text/plain": [
       "{'Pic_num': 3,\n",
       " 'Description': 'מיני קופר S דגם ספורט גג פנורמי כפול 184 כ\"ס \\nשמורה כחדשה מטופלת במוסך מורשה יד שלישית 02 ברשיון',\n",
       " 'Cre_date': '29/05/2024',\n",
       " 'Repub_date': '30/05/2024'}"
      ]
     },
     "execution_count": 423,
     "metadata": {},
     "output_type": "execute_result"
    }
   ],
   "source": [
    "url = 'https://www.ad.co.il/ad/16188386'\n",
    "ad_data_dict = scrape_ad_data(url)\n",
    "\n",
    "ad_data_dict"
   ]
  },
  {
   "cell_type": "markdown",
   "metadata": {},
   "source": [
    "## Combine ad data and table data in a single list"
   ]
  },
  {
   "cell_type": "code",
   "execution_count": 424,
   "metadata": {},
   "outputs": [
    {
     "name": "stdout",
     "output_type": "stream",
     "text": [
      "['Pic_num: 3', 'Description: מיני קופר S דגם ספורט גג פנורמי כפול 184 כ\"ס \\nשמורה כחדשה מטופלת במוסך מורשה יד שלישית 02 ברשיון', 'Cre_date: 29/05/2024', 'Repub_date: 30/05/2024', 'Year: 2013', 'Hand: 3', 'Gear: אוטומטית', 'Engine_capacity: 1,600', 'Engine_type: בנזין', 'Km: 121,000', 'Test: 01/2025', \"Color: בז'\", 'Prev_ownership: פרטית', 'Curr_ownership: פרטית', 'Area: חולון - בת ים', 'City: חולון']\n"
     ]
    }
   ],
   "source": [
    "Detail_link = 'https://www.ad.co.il/ad/16188386'\n",
    "table_data = scrape_table_data(Detail_link)\n",
    "if table_data:\n",
    "    ad_data_list = [f\"{key}: {value}\" for key, value in ad_data_dict.items()]\n",
    "    combined_data = ad_data_list + [f\"{item[0]}: {item[1]}\" for item in table_data]\n",
    "\n",
    "    print(combined_data)\n",
    "else:\n",
    "    print(\"Échec doesnt work\")"
   ]
  },
  {
   "cell_type": "markdown",
   "metadata": {},
   "source": [
    "# Final Combination"
   ]
  },
  {
   "cell_type": "markdown",
   "metadata": {},
   "source": [
    "# call the def we've created to see all the features of 'mini' cars"
   ]
  },
  {
   "cell_type": "code",
   "execution_count": 433,
   "metadata": {
    "scrolled": true
   },
   "outputs": [
    {
     "name": "stdout",
     "output_type": "stream",
     "text": [
      "div  'row hide-on-mobile' not found.\n"
     ]
    },
    {
     "data": {
      "text/html": [
       "<div>\n",
       "<style scoped>\n",
       "    .dataframe tbody tr th:only-of-type {\n",
       "        vertical-align: middle;\n",
       "    }\n",
       "\n",
       "    .dataframe tbody tr th {\n",
       "        vertical-align: top;\n",
       "    }\n",
       "\n",
       "    .dataframe thead th {\n",
       "        text-align: right;\n",
       "    }\n",
       "</style>\n",
       "<table border=\"1\" class=\"dataframe\">\n",
       "  <thead>\n",
       "    <tr style=\"text-align: right;\">\n",
       "      <th></th>\n",
       "      <th>manufacturer</th>\n",
       "      <th>model</th>\n",
       "      <th>price</th>\n",
       "      <th>Pic_num</th>\n",
       "      <th>Description</th>\n",
       "      <th>Cre_date</th>\n",
       "      <th>Repub_date</th>\n",
       "      <th>Year</th>\n",
       "      <th>Hand</th>\n",
       "      <th>Gear</th>\n",
       "      <th>Engine_capacity</th>\n",
       "      <th>Engine_type</th>\n",
       "      <th>Km</th>\n",
       "      <th>Test</th>\n",
       "      <th>Color</th>\n",
       "      <th>Prev_ownership</th>\n",
       "      <th>Curr_ownership</th>\n",
       "      <th>Area</th>\n",
       "      <th>City</th>\n",
       "    </tr>\n",
       "  </thead>\n",
       "  <tbody>\n",
       "    <tr>\n",
       "      <th>0</th>\n",
       "      <td>מיני</td>\n",
       "      <td>קופר</td>\n",
       "      <td>60 ₪</td>\n",
       "      <td>3</td>\n",
       "      <td>מיני קופר S דגם ספורט גג פנורמי כפול 184 כ\"ס \\...</td>\n",
       "      <td>29/05/2024</td>\n",
       "      <td>30/05/2024</td>\n",
       "      <td>2013</td>\n",
       "      <td>3</td>\n",
       "      <td>אוטומטית</td>\n",
       "      <td>1,600</td>\n",
       "      <td>בנזין</td>\n",
       "      <td>121,000</td>\n",
       "      <td>01/2025</td>\n",
       "      <td>בז'</td>\n",
       "      <td>פרטית</td>\n",
       "      <td>פרטית</td>\n",
       "      <td>חולון - בת ים</td>\n",
       "      <td>חולון</td>\n",
       "    </tr>\n",
       "    <tr>\n",
       "      <th>1</th>\n",
       "      <td>מיני</td>\n",
       "      <td>קופר</td>\n",
       "      <td>85,000 ₪</td>\n",
       "      <td>3</td>\n",
       "      <td>מיני קופר גימור פפר שנת 2017 3 דלתות, מנוע 1,4...</td>\n",
       "      <td>25/08/2023</td>\n",
       "      <td>25/08/2023</td>\n",
       "      <td>2017</td>\n",
       "      <td>2</td>\n",
       "      <td>אוטומטית</td>\n",
       "      <td>1,500</td>\n",
       "      <td>בנזין</td>\n",
       "      <td>145,000</td>\n",
       "      <td>NaN</td>\n",
       "      <td>בז'</td>\n",
       "      <td>פרטית</td>\n",
       "      <td>פרטית</td>\n",
       "      <td>באר שבע והסביבה</td>\n",
       "      <td>נתיבות</td>\n",
       "    </tr>\n",
       "    <tr>\n",
       "      <th>2</th>\n",
       "      <td>מיני</td>\n",
       "      <td>ONE</td>\n",
       "      <td>68,000 ₪</td>\n",
       "      <td>6</td>\n",
       "      <td>הבבושקה שלנו למכירה..\\nרכב שמור מאוד, בצבע קרם...</td>\n",
       "      <td>19/07/2023</td>\n",
       "      <td>19/07/2023</td>\n",
       "      <td>2016</td>\n",
       "      <td>3</td>\n",
       "      <td>אוטומטית</td>\n",
       "      <td>1,600</td>\n",
       "      <td>בנזין</td>\n",
       "      <td>56,000</td>\n",
       "      <td>NaN</td>\n",
       "      <td>בז'</td>\n",
       "      <td>פרטית</td>\n",
       "      <td>פרטית</td>\n",
       "      <td>NaN</td>\n",
       "      <td>חורפיש</td>\n",
       "    </tr>\n",
       "    <tr>\n",
       "      <th>3</th>\n",
       "      <td>מיני</td>\n",
       "      <td>קופר</td>\n",
       "      <td>65,000 ₪</td>\n",
       "      <td>8</td>\n",
       "      <td>רכב במצב מצויין היום עבר טיפול במוסך המורשה מי...</td>\n",
       "      <td>26/02/2023</td>\n",
       "      <td>26/02/2023</td>\n",
       "      <td>2014</td>\n",
       "      <td>3</td>\n",
       "      <td>אוטומטית</td>\n",
       "      <td>1,500</td>\n",
       "      <td>בנזין</td>\n",
       "      <td>82,000</td>\n",
       "      <td>NaN</td>\n",
       "      <td>לבן מטאלי</td>\n",
       "      <td>פרטית</td>\n",
       "      <td>פרטית</td>\n",
       "      <td>ראש העין והסביבה</td>\n",
       "      <td>ראש העין</td>\n",
       "    </tr>\n",
       "    <tr>\n",
       "      <th>4</th>\n",
       "      <td>מיני</td>\n",
       "      <td>קופר</td>\n",
       "      <td>70,000 ₪</td>\n",
       "      <td>2</td>\n",
       "      <td>רכב חוויה אין דברים כאלה !! מנוע 1.5 טווין טור...</td>\n",
       "      <td>24/01/2023</td>\n",
       "      <td>24/01/2023</td>\n",
       "      <td>2014</td>\n",
       "      <td>2</td>\n",
       "      <td>אוטומטית</td>\n",
       "      <td>1,500</td>\n",
       "      <td>בנזין</td>\n",
       "      <td>80,000</td>\n",
       "      <td>08/2024</td>\n",
       "      <td>לבן</td>\n",
       "      <td>פרטית</td>\n",
       "      <td>פרטית</td>\n",
       "      <td>תל אביב</td>\n",
       "      <td>תל אביב יפו</td>\n",
       "    </tr>\n",
       "  </tbody>\n",
       "</table>\n",
       "</div>"
      ],
      "text/plain": [
       "  manufacturer model     price  Pic_num  \\\n",
       "0         מיני  קופר      60 ₪        3   \n",
       "1         מיני  קופר  85,000 ₪        3   \n",
       "2         מיני   ONE  68,000 ₪        6   \n",
       "3         מיני  קופר  65,000 ₪        8   \n",
       "4         מיני  קופר  70,000 ₪        2   \n",
       "\n",
       "                                         Description    Cre_date  Repub_date  \\\n",
       "0  מיני קופר S דגם ספורט גג פנורמי כפול 184 כ\"ס \\...  29/05/2024  30/05/2024   \n",
       "1  מיני קופר גימור פפר שנת 2017 3 דלתות, מנוע 1,4...  25/08/2023  25/08/2023   \n",
       "2  הבבושקה שלנו למכירה..\\nרכב שמור מאוד, בצבע קרם...  19/07/2023  19/07/2023   \n",
       "3  רכב במצב מצויין היום עבר טיפול במוסך המורשה מי...  26/02/2023  26/02/2023   \n",
       "4  רכב חוויה אין דברים כאלה !! מנוע 1.5 טווין טור...  24/01/2023  24/01/2023   \n",
       "\n",
       "   Year Hand      Gear Engine_capacity Engine_type       Km     Test  \\\n",
       "0  2013    3  אוטומטית           1,600       בנזין  121,000  01/2025   \n",
       "1  2017    2  אוטומטית           1,500       בנזין  145,000      NaN   \n",
       "2  2016    3  אוטומטית           1,600       בנזין   56,000      NaN   \n",
       "3  2014    3  אוטומטית           1,500       בנזין   82,000      NaN   \n",
       "4  2014    2  אוטומטית           1,500       בנזין   80,000  08/2024   \n",
       "\n",
       "       Color Prev_ownership Curr_ownership              Area         City  \n",
       "0        בז'          פרטית          פרטית     חולון - בת ים        חולון  \n",
       "1        בז'          פרטית          פרטית   באר שבע והסביבה       נתיבות  \n",
       "2        בז'          פרטית          פרטית               NaN       חורפיש  \n",
       "3  לבן מטאלי          פרטית          פרטית  ראש העין והסביבה     ראש העין  \n",
       "4        לבן          פרטית          פרטית           תל אביב  תל אביב יפו  "
      ]
     },
     "execution_count": 433,
     "metadata": {},
     "output_type": "execute_result"
    }
   ],
   "source": [
    "import requests\n",
    "from bs4 import BeautifulSoup\n",
    "import pandas as pd\n",
    "\n",
    "def scrape_table_data(Detail_link):\n",
    "    response = requests.get(Detail_link)\n",
    "    if response.status_code == 200:\n",
    "        soup = BeautifulSoup(response.content, 'html.parser')\n",
    "        parent_div = soup.find('div', {'class': 'col-xxl-4 col-lg-4 col-md-5'})\n",
    "        if parent_div:\n",
    "            table = parent_div.find('table', {'class': 'table table-sm mb-4'})\n",
    "            if table:\n",
    "                table_data = []\n",
    "                rows = table.find_all('tr')\n",
    "                for row in rows:\n",
    "                    cols = row.find_all('td')\n",
    "                    row_data = [col.get_text(strip=True) for col in cols]\n",
    "                    table_data.append(row_data)\n",
    "                translation_dict = {\n",
    "                    'שנה': 'Year',\n",
    "                    'יד': 'Hand',\n",
    "                    'ת. הילוכים': 'Gear',\n",
    "                    'נפח': 'Engine_capacity',\n",
    "                    'סוג מנוע': 'Engine_type',\n",
    "                    'ק\"מ': 'Km',\n",
    "                    'טסט עד': 'Test',\n",
    "                    'צבע': 'Color',\n",
    "                    'בעלות קודמת': 'Prev_ownership',\n",
    "                    'בעלות נוכחית': 'Curr_ownership',\n",
    "                    'אזור': 'Area',\n",
    "                    'עיר': 'City'\n",
    "                }\n",
    "                translated_data = []\n",
    "                for item in table_data:\n",
    "                    if item[0] in translation_dict:\n",
    "                        translated_data.append([translation_dict[item[0]], item[1]])\n",
    "                    else:\n",
    "                        translated_data.append(item)\n",
    "                return translated_data\n",
    "            else:\n",
    "                print(\"Table not found\")\n",
    "                return None\n",
    "        else:\n",
    "            print(\"Parent div not found\")\n",
    "            return None\n",
    "    else:\n",
    "        print(\"Failed to retrieve the webpage\")\n",
    "        return None\n",
    "\n",
    "def scrape_ad_data(url):\n",
    "    result_dict = {}\n",
    "    response = requests.get(url, headers={\n",
    "        'User-Agent': 'Mozilla/5.0 (Windows NT 10.0) AppleWebKit/537.36 (KHTML, comme Gecko) Chrome/113.0.0.0 Safari/537.36'\n",
    "    })\n",
    "    if response.status_code == 200:\n",
    "        soup = BeautifulSoup(response.content, 'html.parser')\n",
    "        div_row = soup.find('div', {'class': 'row hide-on-mobile'})\n",
    "        if div_row:\n",
    "            photos = div_row.find_all('img')\n",
    "            nombre_photos = len(photos)-1\n",
    "            result_dict[\"Pic_num\"] = nombre_photos\n",
    "        else:\n",
    "            print(\"div  'row hide-on-mobile' not found.\")\n",
    "            result_dict[\"Pic_num\"] = 0\n",
    "        description_p = soup.find('p', class_='text-word-break')\n",
    "        if description_p:\n",
    "            description_text = description_p.get_text(strip=True)\n",
    "            result_dict[\"Description\"] = description_text\n",
    "        else:\n",
    "            print(\"P classe 'text-word-break' not found .\")\n",
    "            result_dict[\"Description\"] = \"\"\n",
    "        description_elements = soup.find_all('div', class_='px-3')\n",
    "        if description_elements:\n",
    "            for element in description_elements:\n",
    "                element_text = element.get_text().strip()\n",
    "                if \"תאריך יצירה:\" in element_text:\n",
    "                    result_dict[\"Cre_date\"] = element_text.replace(\"תאריך יצירה:\", \"\").strip()\n",
    "                if \"תאריך הקפצה אחרון:\" in element_text:\n",
    "                    result_dict[\"Repub_date\"] = element_text.replace(\"תאריך הקפצה אחרון:\", \"\").strip()\n",
    "        else:\n",
    "            print(\" classe  'px-3' not found.\")\n",
    "    else:\n",
    "        print(f\"Error {response.status_code} .\")\n",
    "        result_dict[\"Pic_num\"] = 0\n",
    "        result_dict[\"Description\"] = \"\"\n",
    "        result_dict[\"Cre_date\"] = \"\"\n",
    "        result_dict[\"Repub_date\"] = \"\"\n",
    "    return result_dict\n",
    "\n",
    "def get_car():\n",
    "    car_list = list()\n",
    "    url = \"https://www.ad.co.il/car?sp261=13924\"\n",
    "    response = requests.get(url)\n",
    "    if response.status_code != 200:\n",
    "        print(\"HTTP error:\", response.status_code)\n",
    "        return None\n",
    "    try:\n",
    "        results_page = BeautifulSoup(response.content, 'html.parser')\n",
    "        cars = results_page.find_all('div', {'class': 'card-body p-md-3'})\n",
    "        for idx, car in enumerate(cars):\n",
    "            if idx >= len(cars) - 3:\n",
    "                continue\n",
    "            car_link = \"https://www.ad.co.il\" + car.find('a').get('href')\n",
    "            try:\n",
    "                car_description = car.get_text().split()\n",
    "                manufacturer = car_description[0]\n",
    "                model = car_description[1]\n",
    "                year = car_description[2]\n",
    "                price_element = car.find('div', {'class': 'price ms-1'})\n",
    "                price = price_element.get_text(strip=True) if price_element else ''\n",
    "                description_dict = {\n",
    "                    'manufacturer': manufacturer,\n",
    "                    'model': model,\n",
    "                    'price': price\n",
    "                }\n",
    "            except IndexError:\n",
    "                description_dict = {\n",
    "                    'manufacturer': '',\n",
    "                    'model': '',\n",
    "                    'price': ''\n",
    "                }\n",
    "            car_list.append((car_link, description_dict))\n",
    "        return car_list\n",
    "    except Exception as e:\n",
    "        print(f\"Error occurred: {e}\")\n",
    "        return None\n",
    "\n",
    "def get_complete_car_info():\n",
    "    cars = get_car()\n",
    "    if not cars:\n",
    "        print(\"Car not found.\")\n",
    "        return []\n",
    "\n",
    "    complete_info_list = []\n",
    "    for car_link, basic_info in cars:\n",
    "        table_data = scrape_table_data(car_link)\n",
    "        ad_data = scrape_ad_data(car_link)\n",
    "        if table_data and ad_data:\n",
    "            combined_info = {**basic_info, **ad_data}\n",
    "            for item in table_data:\n",
    "                combined_info[item[0]] = item[1]\n",
    "            complete_info_list.append(combined_info)\n",
    "    \n",
    "    return complete_info_list\n",
    "\n",
    "# Appel de la fonction pour tester\n",
    "complete_car_info = get_complete_car_info()\n",
    "\n",
    "# Création d'un DataFrame avec pandas\n",
    "df = pd.DataFrame(complete_car_info)\n",
    "\n",
    "# Affichage du DataFrame\n",
    "df.head()\n",
    "\n",
    "# Sauvegarde du DataFrame dans un fichier CSV (optionnel)\n",
    "# df.to_csv('car_data.csv', index=False)\n"
   ]
  },
  {
   "cell_type": "code",
   "execution_count": 434,
   "metadata": {},
   "outputs": [
    {
     "name": "stdout",
     "output_type": "stream",
     "text": [
      "Le fichier CSV a été sauvegardé avec succès.\n"
     ]
    }
   ],
   "source": [
    "df.to_csv('car_data.csv', index=False)\n",
    "print(\"Le fichier CSV a été sauvegardé avec succès.\")"
   ]
  },
  {
   "cell_type": "code",
   "execution_count": null,
   "metadata": {},
   "outputs": [],
   "source": []
  }
 ],
 "metadata": {
  "kernelspec": {
   "display_name": "Python 3",
   "language": "python",
   "name": "python3"
  },
  "language_info": {
   "codemirror_mode": {
    "name": "ipython",
    "version": 3
   },
   "file_extension": ".py",
   "mimetype": "text/x-python",
   "name": "python",
   "nbconvert_exporter": "python",
   "pygments_lexer": "ipython3",
   "version": "3.8.5"
  }
 },
 "nbformat": 4,
 "nbformat_minor": 4
}
